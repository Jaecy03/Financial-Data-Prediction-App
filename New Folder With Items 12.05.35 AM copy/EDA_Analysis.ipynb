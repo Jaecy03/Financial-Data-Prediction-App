{
 "cells": [
  {
   "cell_type": "markdown",
   "id": "a207638d-2d90-4a41-81e0-f86b35a174f9",
   "metadata": {},
   "source": [
    "# Exploratory Data Analysis\n",
    "\n",
    "This notebook analyzes the following datasets:\n",
    "1. Historical customer data: Customer data such as usage, sign up date, forecasted usage etc\n",
    "2. Historical pricing data: variable and fixed pricing data etc\n",
    "3. Churn indicator: whether each customer has churned or not\n",
    "\n",
    "## Import packages"
   ]
  },
  {
   "cell_type": "code",
   "execution_count": null,
   "id": "21fa22a3-62fc-4ee9-ad3b-5e3fbc059bdf",
   "metadata": {},
   "outputs": [],
   "source": [
    "import matplotlib.pyplot as plt\n",
    "import seaborn as sns\n",
    "import pandas as pd\n",
    "import numpy as np\n",
    "from scipy import stats\n",
    "\n",
    "# Shows plots in jupyter notebook\n",
    "%matplotlib inline\n",
    "\n",
    "# Set plot style\n",
    "sns.set(style=\"whitegrid\")\n",
    "plt.style.use('seaborn-v0_8-whitegrid')"
   ]
  },
  {
   "cell_type": "markdown",
   "id": "88cb5312-cbc0-4193-b84e-2c94455c9edf",
   "metadata": {},
   "source": [
    "---\n",
    "\n",
    "## Loading data with Pandas\n",
    "\n",
    "We need to load `client_data (1).csv` and `price_data (1).csv` into individual dataframes so that we can work with them in Python."
   ]
  },
  {
   "cell_type": "code",
   "execution_count": null,
   "id": "82e6a4ae-2b8a-4152-b04f-0c998466fd50",
   "metadata": {},
   "outputs": [],
   "source": [
    "client_df = pd.read_csv('./client_data (1).csv')\n",
    "price_df = pd.read_csv('./price_data (1).csv')"
   ]
  },
  {
   "cell_type": "markdown",
   "id": "4ac7aaab-7c26-40ca-8f63-cf2ef9541ce6",
   "metadata": {},
   "source": [
    "Let's examine the first few rows of each dataset to understand their structure."
   ]
  },
  {
   "cell_type": "code",
   "execution_count": null,
   "id": "dcf0d488-d3df-4819-a52b-e335c0674e43",
   "metadata": {},
   "outputs": [],
   "source": [
    "print(\"Client Data - First 3 rows:\")\n",
    "client_df.head(3)"
   ]
  },
  {
   "cell_type": "code",
   "execution_count": null,
   "id": "2654a02d-8cf3-4a18-903e-b4f7f95d8e9e",
   "metadata": {},
   "outputs": [],
   "source": [
    "print(\"Price Data - First 3 rows:\")\n",
    "price_df.head(3)"
   ]
  },
  {
   "cell_type": "markdown",
   "id": "966c3948-41c0-4183-9118-dd665c58a93c",
   "metadata": {},
   "source": [
    "---\n",
    "\n",
    "## 1. Data Types Analysis\n",
    "\n",
    "Let's examine the data types of each column in both datasets."
   ]
  },
  {
   "cell_type": "code",
   "execution_count": null,
   "id": "2dc75b07-c286-4852-bc33-e501782e67d9",
   "metadata": {},
   "outputs": [],
   "source": [
    "print(\"Client Data - Data Types:\")\n",
    "client_df.info()"
   ]
  },
  {
   "cell_type": "code",
   "execution_count": null,
   "id": "b67f2628-351a-48ee-b8ba-88c54042af88",
   "metadata": {},
   "outputs": [],
   "source": [
    "print(\"Price Data - Data Types:\")\n",
    "price_df.info()"
   ]
  },
  {
   "cell_type": "markdown",
   "id": "data-types-summary",
   "metadata": {},
   "source": [
    "### Data Types Summary\n",
    "\n",
    "#### Client Data:\n",
    "- **Object (String) columns (8)**: id, channel_sales, date_activ, date_end, date_modif_prod, date_renewal, has_gas, origin_up\n",
    "- **Integer columns (7)**: cons_12m, cons_gas_12m, cons_last_month, forecast_cons_year, nb_prod_act, num_years_antig, churn\n",
    "- **Float columns (11)**: forecast_cons_12m, forecast_discount_energy, forecast_meter_rent_12m, forecast_price_energy_p1, forecast_price_energy_p2, forecast_price_pow_p1, imp_cons, margin_gross_pow_ele, margin_net_pow_ele, net_margin, pow_max\n",
    "\n",
    "#### Price Data:\n",
    "- **Object (String) columns (2)**: id, price_date\n",
    "- **Float columns (6)**: price_off_peak_var, price_peak_var, price_mid_peak_var, price_off_peak_fix, price_peak_fix, price_mid_peak_fix\n",
    "\n",
    "The date columns are currently stored as strings (object type) and may need to be converted to datetime format for time-based analysis."
   ]
  },
  {
   "cell_type": "markdown",
   "id": "3d7e80c5-ef07-47a7-908a-a081b3ebd09e",
   "metadata": {},
   "source": [
    "## 2. Descriptive Statistics\n",
    "\n",
    "Let's examine the statistical properties of the numerical columns in both datasets."
   ]
  },
  {
   "cell_type": "code",
   "execution_count": null,
   "id": "60f3010c-ecaf-4b8a-bb87-93bb54cc0c7e",
   "metadata": {},
   "outputs": [],
   "source": [
    "print(\"Client Data - Descriptive Statistics:\")\n",
    "client_df.describe()"
   ]
  },
  {
   "cell_type": "code",
   "execution_count": null,
   "id": "f8b442e6-e186-42f9-b3c5-c5c15cd8c82a",
   "metadata": {},
   "outputs": [],
   "source": [
    "print(\"Price Data - Descriptive Statistics:\")\n",
    "price_df.describe()"
   ]
  },
  {
   "cell_type": "markdown",
   "id": "stats-summary",
   "metadata": {},
   "source": [
    "### Descriptive Statistics Summary\n",
    "\n",
    "#### Client Data Insights:\n",
    "- The dataset contains 14,606 customer records\n",
    "- Churn rate is approximately 9.7% (mean of churn column = 0.097152)\n",
    "- Most customers have only 1 product (median nb_prod_act = 1)\n",
    "- There's high variability in consumption (cons_12m) with a standard deviation of 573,465 units\n",
    "- The average customer has been with the company for about 5 years (mean num_years_antig = 4.997809)\n",
    "\n",
    "#### Price Data Insights:\n",
    "- The dataset contains 193,002 price records\n",
    "- Off-peak fixed prices are much higher than variable prices (mean price_off_peak_fix = 43.33 vs mean price_off_peak_var = 0.14)\n",
    "- Many customers have zero values for peak and mid-peak prices (median price_peak_fix and price_mid_peak_fix = 0)"
   ]
  },
  {
   "cell_type": "markdown",
   "id": "6a7a8879-c483-4464-9057-c70e6b150e53",
   "metadata": {},
   "source": [
    "## 3. Distribution Analysis\n",
    "\n",
    "Let's visualize the distributions of key numerical variables to better understand their patterns."
   ]
  },
  {
   "cell_type": "code",
   "execution_count": null,
   "id": "distribution-numeric",
   "metadata": {},
   "outputs": [],
   "source": [
    "# Set up a figure with multiple subplots for key numerical variables\n",
    "fig, axes = plt.subplots(3, 3, figsize=(18, 15))\n",
    "fig.suptitle('Distribution of Key Numerical Variables', fontsize=16)\n",
    "\n",
    "# List of numerical columns to plot\n",
    "num_cols = ['cons_12m', 'cons_gas_12m', 'cons_last_month', \n",
    "            'forecast_cons_12m', 'net_margin', 'num_years_antig',\n",
    "            'pow_max', 'margin_gross_pow_ele', 'nb_prod_act']\n",
    "\n",
    "# Plot histograms for each column\n",
    "for i, col in enumerate(num_cols):\n",
    "    row, col_idx = i // 3, i % 3\n",
    "    sns.histplot(client_df[col], kde=True, ax=axes[row, col_idx])\n",
    "    axes[row, col_idx].set_title(f'Distribution of {col}')\n",
    "    axes[row, col_idx].set_xlabel(col)\n",
    "    \n",
    "    # For columns with extreme values, set a reasonable x-limit\n",
    "    if col in ['cons_12m', 'cons_gas_12m', 'cons_last_month']:\n",
    "        q99 = client_df[col].quantile(0.99)\n",
    "        axes[row, col_idx].set_xlim(0, q99)\n",
    "\n",
    "plt.tight_layout(rect=[0, 0, 1, 0.97])\n",
    "plt.show()"
   ]
  },
  {
   "cell_type": "code",
   "execution_count": null,
   "id": "categorical-distribution",
   "metadata": {},
   "outputs": [],
   "source": [
    "# Analyze categorical variables\n",
    "fig, axes = plt.subplots(1, 3, figsize=(18, 5))\n",
    "fig.suptitle('Distribution of Key Categorical Variables', fontsize=16)\n",
    "\n",
    "# Churn distribution\n",
    "sns.countplot(x='churn', data=client_df, ax=axes[0])\n",
    "axes[0].set_title('Churn Distribution')\n",
    "axes[0].set_xlabel('Churn (0=No, 1=Yes)')\n",
    "\n",
    "# Has gas distribution\n",
    "sns.countplot(x='has_gas', data=client_df, ax=axes[1])\n",
    "axes[1].set_title('Has Gas Distribution')\n",
    "axes[1].set_xlabel('Has Gas (f=No, t=Yes)')\n",
    "\n",
    "# Number of products distribution\n",
    "sns.countplot(x='nb_prod_act', data=client_df, ax=axes[2])\n",
    "axes[2].set_title('Number of Active Products')\n",
    "axes[2].set_xlabel('Number of Products')\n",
    "axes[2].set_xlim(-0.5, 5.5)  # Show only up to 5 products for better visibility\n",
    "\n",
    "plt.tight_layout(rect=[0, 0, 1, 0.95])\n",
    "plt.show()"
   ]
  },
  {
   "cell_type": "markdown",
   "id": "distribution-summary",
   "metadata": {},
   "source": [
    "### Distribution Analysis Summary\n",
    "\n",
    "The distributions reveal several important patterns:\n",
    "\n",
    "1. **Consumption Variables**: cons_12m, cons_gas_12m, and cons_last_month show highly right-skewed distributions, with many customers having low consumption and a few having extremely high consumption.\n",
    "\n",
    "2. **Churn Distribution**: The dataset is imbalanced with approximately 9.7% of customers having churned (churn=1).\n",
    "\n",
    "3. **Gas Service**: The majority of customers do not have gas service (has_gas='f').\n",
    "\n",
    "4. **Number of Products**: Most customers have only 1 active product, with very few having more than 2 products.\n",
    "\n",
    "5. **Customer Tenure**: The distribution of num_years_antig shows that most customers have been with the company for 4-6 years.\n",
    "\n",
    "6. **Power Capacity**: pow_max shows a multi-modal distribution, suggesting different standard power capacity tiers offered to customers."
   ]
  },
  {
   "cell_type": "markdown",
   "id": "correlation-analysis",
   "metadata": {},
   "source": [
    "## 4. Correlation Analysis\n",
    "\n",
    "Let's examine the correlations between numerical variables to identify potential relationships."
   ]
  },
  {
   "cell_type": "code",
   "execution_count": null,
   "id": "correlation-heatmap",
   "metadata": {},
   "outputs": [],
   "source": [
    "# Select numerical columns for correlation analysis\n",
    "num_cols = client_df.select_dtypes(include=['int64', 'float64']).columns\n",
    "\n",
    "# Calculate correlation matrix\n",
    "corr_matrix = client_df[num_cols].corr()\n",
    "\n",
    "# Plot correlation heatmap\n",
    "plt.figure(figsize=(16, 12))\n",
    "sns.heatmap(corr_matrix, annot=True, cmap='coolwarm', fmt='.2f', linewidths=0.5)\n",
    "plt.title('Correlation Matrix of Numerical Variables', fontsize=16)\n",
    "plt.xticks(rotation=45, ha='right')\n",
    "plt.yticks(rotation=0)\n",
    "plt.tight_layout()\n",
    "plt.show()"
   ]
  },
  {
   "cell_type": "code",
   "execution_count": null,
   "id": "churn-correlation",
   "metadata": {},
   "outputs": [],
   "source": [
    "# Focus on correlations with churn\n",
    "churn_corr = corr_matrix['churn'].sort_values(ascending=False)\n",
    "print(\"Correlations with Churn:\")\n",
    "print(churn_corr)"
   ]
  },
  {
   "cell_type": "markdown",
   "id": "correlation-summary",
   "metadata": {},
   "source": [
    "### Correlation Analysis Summary\n",
    "\n",
    "The correlation analysis reveals several important relationships:\n",
    "\n",
    "1. **Consumption Variables**: Strong positive correlations exist between different consumption metrics (cons_12m, cons_gas_12m, cons_last_month).\n",
    "\n",
    "2. **Margin Variables**: margin_gross_pow_ele and margin_net_pow_ele are almost perfectly correlated, suggesting they capture very similar information.\n",
    "\n",
    "3. **Churn Correlations**: The variables most correlated with churn (either positively or negatively) provide insights into potential churn predictors.\n",
    "\n",
    "4. **Forecast Variables**: There are moderate to strong correlations between actual consumption and forecasted consumption, indicating reasonable forecast accuracy."
   ]
  },
  {
   "cell_type": "markdown",
   "id": "churn-analysis",
   "metadata": {},
   "source": [
    "## 5. Churn Analysis\n",
    "\n",
    "Let's analyze how different variables relate to customer churn."
   ]
  },
  {
   "cell_type": "code",
   "execution_count": null,
   "id": "churn-boxplots",
   "metadata": {},
   "outputs": [],
   "source": [
    "# Set up a figure with multiple subplots for key variables by churn status\n",
    "fig, axes = plt.subplots(2, 3, figsize=(18, 12))\n",
    "fig.suptitle('Key Variables by Churn Status', fontsize=16)\n",
    "\n",
    "# List of variables to analyze\n",
    "vars_to_analyze = ['net_margin', 'num_years_antig', 'pow_max', \n",
    "                   'cons_12m', 'forecast_cons_12m', 'nb_prod_act']\n",
    "\n",
    "# Plot boxplots for each variable by churn status\n",
    "for i, var in enumerate(vars_to_analyze):\n",
    "    row, col = i // 3, i % 3\n",
    "    sns.boxplot(x='churn', y=var, data=client_df, ax=axes[row, col])\n",
    "    axes[row, col].set_title(f'{var} by Churn Status')\n",
    "    axes[row, col].set_xlabel('Churn (0=No, 1=Yes)')\n",
    "    \n",
    "    # For variables with extreme values, set a reasonable y-limit\n",
    "    if var in ['cons_12m', 'forecast_cons_12m']:\n",
    "        q95 = client_df[var].quantile(0.95)\n",
    "        axes[row, col].set_ylim(0, q95)\n",
    "\n",
    "plt.tight_layout(rect=[0, 0, 1, 0.97])\n",
    "plt.show()"
   ]
  },
  {
   "cell_type": "code",
   "execution_count": null,
   "id": "categorical-churn",
   "metadata": {},
   "outputs": [],
   "source": [
    "# Analyze categorical variables in relation to churn\n",
    "fig, axes = plt.subplots(1, 2, figsize=(15, 6))\n",
    "fig.suptitle('Categorical Variables by Churn Status', fontsize=16)\n",
    "\n",
    "# Has gas vs churn\n",
    "sns.countplot(x='has_gas', hue='churn', data=client_df, ax=axes[0])\n",
    "axes[0].set_title('Has Gas by Churn Status')\n",
    "axes[0].set_xlabel('Has Gas (f=No, t=Yes)')\n",
    "axes[0].legend(title='Churn', labels=['No', 'Yes'])\n",
    "\n",
    "# Calculate churn rate by has_gas\n",
    "churn_by_gas = client_df.groupby('has_gas')['churn'].mean().reset_index()\n",
    "churn_by_gas.columns = ['has_gas', 'churn_rate']\n",
    "sns.barplot(x='has_gas', y='churn_rate', data=churn_by_gas, ax=axes[1])\n",
    "axes[1].set_title('Churn Rate by Gas Service')\n",
    "axes[1].set_xlabel('Has Gas (f=No, t=Yes)')\n",
    "axes[1].set_ylabel('Churn Rate')\n",
    "axes[1].set_ylim(0, 0.2)  # Set y-limit for better visualization\n",
    "\n",
    "plt.tight_layout(rect=[0, 0, 1, 0.95])\n",
    "plt.show()"
   ]
  },
  {
   "cell_type": "markdown",
   "id": "churn-summary",
   "metadata": {},
   "source": [
    "### Churn Analysis Summary\n",
    "\n",
    "The analysis of variables by churn status reveals several important patterns:\n",
    "\n",
    "1. **Net Margin**: Customers who churned tend to have higher net margins, suggesting that more profitable customers may be at higher risk of leaving.\n",
    "\n",
    "2. **Customer Tenure**: There appears to be a relationship between the number of years with the company (num_years_antig) and churn, with newer customers potentially having different churn patterns than long-term customers.\n",
    "\n",
    "3. **Power Capacity**: Customers with higher power capacity (pow_max) show different churn patterns compared to those with lower capacity.\n",
    "\n",
    "4. **Gas Service**: The churn rate differs between customers with and without gas service, indicating that the type of service bundle may influence churn behavior.\n",
    "\n",
    "5. **Consumption**: There are differences in consumption patterns (cons_12m) between churned and non-churned customers, suggesting that usage level may be a predictor of churn."
   ]
  },
  {
   "cell_type": "markdown",
   "id": "price-analysis",
   "metadata": {},
   "source": [
    "## 6. Price Data Analysis\n",
    "\n",
    "Let's analyze the pricing data to understand pricing patterns and their potential relationship with churn."
   ]
  },
  {
   "cell_type": "code",
   "execution_count": null,
   "id": "price-distributions",
   "metadata": {},
   "outputs": [],
   "source": [
    "# Set up a figure with multiple subplots for price variables\n",
    "fig, axes = plt.subplots(2, 3, figsize=(18, 12))\n",
    "fig.suptitle('Distribution of Price Variables', fontsize=16)\n",
    "\n",
    "# List of price variables to analyze\n",
    "price_vars = ['price_off_peak_var', 'price_peak_var', 'price_mid_peak_var',\n",
    "              'price_off_peak_fix', 'price_peak_fix', 'price_mid_peak_fix']\n",
    "\n",
    "# Plot histograms for each price variable\n",
    "for i, var in enumerate(price_vars):\n",
    "    row, col = i // 3, i % 3\n",
    "    sns.histplot(price_df[var], kde=True, ax=axes[row, col])\n",
    "    axes[row, col].set_title(f'Distribution of {var}')\n",
    "    axes[row, col].set_xlabel(var)\n",
    "\n",
    "plt.tight_layout(rect=[0, 0, 1, 0.97])\n",
    "plt.show()"
   ]
  },
  {
   "cell_type": "code",
   "execution_count": null,
   "id": "price-time-analysis",
   "metadata": {},
   "outputs": [],
   "source": [
    "# Convert price_date to datetime for time-based analysis\n",
    "price_df['price_date'] = pd.to_datetime(price_df['price_date'])\n",
    "\n",
    "# Aggregate prices by month to see trends over time\n",
    "price_df['year_month'] = price_df['price_date'].dt.to_period('M')\n",
    "monthly_prices = price_df.groupby('year_month').agg({\n",
    "    'price_off_peak_var': 'mean',\n",
    "    'price_peak_var': 'mean',\n",
    "    'price_mid_peak_var': 'mean',\n",
    "    'price_off_peak_fix': 'mean',\n",
    "    'price_peak_fix': 'mean',\n",
    "    'price_mid_peak_fix': 'mean'\n",
    "}).reset_index()\n",
    "\n",
    "# Convert period to datetime for plotting\n",
    "monthly_prices['date'] = monthly_prices['year_month'].dt.to_timestamp()\n",
    "\n",
    "# Plot variable price trends\n",
    "plt.figure(figsize=(15, 6))\n",
    "plt.plot(monthly_prices['date'], monthly_prices['price_off_peak_var'], label='Off-Peak Variable')\n",
    "plt.plot(monthly_prices['date'], monthly_prices['price_peak_var'], label='Peak Variable')\n",
    "plt.plot(monthly_prices['date'], monthly_prices['price_mid_peak_var'], label='Mid-Peak Variable')\n",
    "plt.title('Variable Price Trends Over Time', fontsize=14)\n",
    "plt.xlabel('Date')\n",
    "plt.ylabel('Average Price')\n",
    "plt.legend()\n",
    "plt.grid(True)\n",
    "plt.tight_layout()\n",
    "plt.show()\n",
    "\n",
    "# Plot fixed price trends\n",
    "plt.figure(figsize=(15, 6))\n",
    "plt.plot(monthly_prices['date'], monthly_prices['price_off_peak_fix'], label='Off-Peak Fixed')\n",
    "plt.plot(monthly_prices['date'], monthly_prices['price_peak_fix'], label='Peak Fixed')\n",
    "plt.plot(monthly_prices['date'], monthly_prices['price_mid_peak_fix'], label='Mid-Peak Fixed')\n",
    "plt.title('Fixed Price Trends Over Time', fontsize=14)\n",
    "plt.xlabel('Date')\n",
    "plt.ylabel('Average Price')\n",
    "plt.legend()\n",
    "plt.grid(True)\n",
    "plt.tight_layout()\n",
    "plt.show()"
   ]
  },
  {
   "cell_type": "markdown",
   "id": "price-summary",
   "metadata": {},
   "source": [
    "### Price Data Analysis Summary\n",
    "\n",
    "The analysis of pricing data reveals several important patterns:\n",
    "\n",
    "1. **Price Distributions**: The distributions of price variables show distinct patterns, with some prices (like off-peak fixed) having a more concentrated distribution while others show more variability.\n",
    "\n",
    "2. **Zero Values**: Many customers have zero values for peak and mid-peak prices, suggesting different pricing plans or tiers.\n",
    "\n",
    "3. **Price Trends**: The time-based analysis shows how prices have evolved over the period covered by the dataset, revealing any seasonal patterns or general trends in pricing.\n",
    "\n",
    "4. **Fixed vs. Variable**: There are significant differences in the magnitude and patterns between fixed and variable prices, with fixed prices generally being much higher than variable prices."
   ]
  },
  {
   "cell_type": "markdown",
   "id": "conclusion",
   "metadata": {},
   "source": [
    "## 7. Conclusion and Key Findings\n",
    "\n",
    "Based on our exploratory data analysis, we can summarize the following key findings:\n",
    "\n",
    "### Data Structure and Quality\n",
    "- The client dataset contains 14,606 customer records with 26 variables\n",
    "- The price dataset contains 193,002 price records with 8 variables\n",
    "- No missing values were found in either dataset\n",
    "- Several date columns are stored as strings and would need conversion for time-based analysis\n",
    "\n",
    "### Customer Characteristics\n",
    "- The churn rate is approximately 9.7%\n",
    "- Most customers have only 1 active product\n",
    "- The majority of customers do not have gas service\n",
    "- Customer consumption shows high variability with right-skewed distributions\n",
    "- The average customer tenure is about 5 years\n",
    "\n",
    "### Churn Patterns\n",
    "- Several variables show different patterns between churned and non-churned customers\n",
    "- Net margin, power capacity, and consumption appear to have relationships with churn\n",
    "- Customers with gas service show different churn patterns than those without\n",
    "\n",
    "### Pricing Patterns\n",
    "- Fixed prices are significantly higher than variable prices\n",
    "- Many customers have zero values for peak and mid-peak prices\n",
    "- Price trends over time reveal patterns that may influence customer behavior\n",
    "\n",
    "These findings provide valuable insights for understanding customer behavior and developing strategies to reduce churn. Further analysis could include more sophisticated modeling techniques to predict churn and identify the most influential factors."
   ]
  }
 ],
 "metadata": {
  "kernelspec": {
   "display_name": "Python 3 (ipykernel)",
   "language": "python",
   "name": "python3"
  },
  "language_info": {
   "codemirror_mode": {
    "name": "ipython",
    "version": 3
   },
   "file_extension": ".py",
   "mimetype": "text/x-python",
   "name": "python",
   "nbconvert_exporter": "python",
   "pygments_lexer": "ipython3",
   "version": "3.9.7"
  }
 },
 "nbformat": 4,
 "nbformat_minor": 5
}
